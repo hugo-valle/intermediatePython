{
 "cells": [
  {
   "cell_type": "markdown",
   "metadata": {},
   "source": [
    "# Property Decorators\n",
    "Allow us to decorate a method that will accessible like an attribute.\n",
    "Use **@property** decorator"
   ]
  },
  {
   "cell_type": "code",
   "execution_count": 7,
   "metadata": {
    "collapsed": true
   },
   "outputs": [],
   "source": [
    "class Employee:\n",
    "    def __init__(self, first, last):\n",
    "        self.first = first\n",
    "        self.last = last\n",
    "        self.email = first + \".\" + last + \"@weber.edu\"\n",
    "        \n",
    "    def fullname(self):\n",
    "        return \"{} {}\".format(self.first, self.last)"
   ]
  },
  {
   "cell_type": "code",
   "execution_count": 8,
   "metadata": {},
   "outputs": [
    {
     "name": "stdout",
     "output_type": "stream",
     "text": [
      "John\n",
      "John.Garcia@weber.edu\n"
     ]
    }
   ],
   "source": [
    "# Test is\n",
    "emp1 = Employee(\"John\", \"Garcia\")\n",
    "print(emp1.first)\n",
    "print(emp1.email)"
   ]
  },
  {
   "cell_type": "markdown",
   "metadata": {},
   "source": [
    "Change some of the attributes"
   ]
  },
  {
   "cell_type": "code",
   "execution_count": 9,
   "metadata": {},
   "outputs": [
    {
     "name": "stdout",
     "output_type": "stream",
     "text": [
      "Mario\n",
      "John.Garcia@weber.edu\n"
     ]
    }
   ],
   "source": [
    "emp1.first = \"Mario\"\n",
    "print(emp1.first)\n",
    "print(emp1.email)"
   ]
  },
  {
   "cell_type": "markdown",
   "metadata": {},
   "source": [
    "We want a way to automatically update the email.<br>\n",
    "Create a method like **fullname()**. \n",
    "\n",
    "Problem: people who are already using it, it will break their code. They will need to change their **email attribute** to an **email method**\n",
    "\n",
    "Where C++ and Java programmers are happy. We have a **setters and getters** option"
   ]
  },
  {
   "cell_type": "code",
   "execution_count": 10,
   "metadata": {
    "collapsed": true
   },
   "outputs": [],
   "source": [
    "class Employee:\n",
    "    def __init__(self, first, last):\n",
    "        self.first = first\n",
    "        self.last = last\n",
    "        \n",
    "    def email(self):\n",
    "        return \"{} {}@weber.edu\".format(self.first, self.last)\n",
    "                                        \n",
    "    def fullname(self):\n",
    "        return \"{} {}\".format(self.first, self.last)"
   ]
  },
  {
   "cell_type": "code",
   "execution_count": 11,
   "metadata": {},
   "outputs": [
    {
     "name": "stdout",
     "output_type": "stream",
     "text": [
      "John\n",
      "<bound method Employee.email of <__main__.Employee object at 0x000001D14AAD35F8>>\n",
      "Mario\n",
      "<bound method Employee.email of <__main__.Employee object at 0x000001D14AAD35F8>>\n"
     ]
    }
   ],
   "source": [
    "# Test is\n",
    "emp1 = Employee(\"John\", \"Garcia\")\n",
    "print(emp1.first)\n",
    "print(emp1.email)\n",
    "emp1.first = \"Mario\"\n",
    "print(emp1.first)\n",
    "print(emp1.email)"
   ]
  },
  {
   "cell_type": "code",
   "execution_count": 12,
   "metadata": {},
   "outputs": [
    {
     "name": "stdout",
     "output_type": "stream",
     "text": [
      "John\n",
      "John Garcia@weber.edu\n",
      "Mario\n",
      "Mario Garcia@weber.edu\n"
     ]
    }
   ],
   "source": [
    "# Test is\n",
    "emp1 = Employee(\"John\", \"Garcia\")\n",
    "print(emp1.first)\n",
    "print(emp1.email()) # needs parenthesis to get the value\n",
    "emp1.first = \"Mario\"\n",
    "print(emp1.first)\n",
    "print(emp1.email())"
   ]
  },
  {
   "cell_type": "markdown",
   "metadata": {},
   "source": [
    "Change the behavior of this method, to that of an attribute"
   ]
  },
  {
   "cell_type": "code",
   "execution_count": 13,
   "metadata": {
    "collapsed": true
   },
   "outputs": [],
   "source": [
    "class Employee:\n",
    "    def __init__(self, first, last):\n",
    "        self.first = first\n",
    "        self.last = last\n",
    "    \n",
    "    @property\n",
    "    def email(self):\n",
    "        return \"{} {}@weber.edu\".format(self.first, self.last)\n",
    "    \n",
    "    @property\n",
    "    def fullname(self):\n",
    "        return \"{} {}\".format(self.first, self.last)"
   ]
  },
  {
   "cell_type": "code",
   "execution_count": 14,
   "metadata": {},
   "outputs": [
    {
     "name": "stdout",
     "output_type": "stream",
     "text": [
      "John\n",
      "John Garcia@weber.edu\n",
      "Mario\n",
      "Mario Garcia@weber.edu\n"
     ]
    }
   ],
   "source": [
    "# Test is\n",
    "emp1 = Employee(\"John\", \"Garcia\")\n",
    "print(emp1.first)\n",
    "print(emp1.email)\n",
    "emp1.first = \"Mario\"\n",
    "print(emp1.first)\n",
    "print(emp1.email)"
   ]
  },
  {
   "cell_type": "markdown",
   "metadata": {},
   "source": [
    "#### The above will give you **getters**"
   ]
  },
  {
   "cell_type": "markdown",
   "metadata": {},
   "source": [
    "#### Now try setters\n",
    "\n",
    "To set values, we need another decorator **@method.setter**<br>\n",
    "ex: **@fullname.setter**"
   ]
  },
  {
   "cell_type": "code",
   "execution_count": 15,
   "metadata": {},
   "outputs": [
    {
     "ename": "AttributeError",
     "evalue": "can't set attribute",
     "output_type": "error",
     "traceback": [
      "\u001b[1;31m---------------------------------------------------------------------------\u001b[0m",
      "\u001b[1;31mAttributeError\u001b[0m                            Traceback (most recent call last)",
      "\u001b[1;32m<ipython-input-15-66d1c2338d70>\u001b[0m in \u001b[0;36m<module>\u001b[1;34m()\u001b[0m\n\u001b[1;32m----> 1\u001b[1;33m \u001b[0memp1\u001b[0m\u001b[1;33m.\u001b[0m\u001b[0mfullname\u001b[0m \u001b[1;33m=\u001b[0m \u001b[1;34m\"John MacCools\"\u001b[0m\u001b[1;33m\u001b[0m\u001b[0m\n\u001b[0m",
      "\u001b[1;31mAttributeError\u001b[0m: can't set attribute"
     ]
    }
   ],
   "source": [
    "emp1.fullname = \"John MacCools\""
   ]
  },
  {
   "cell_type": "code",
   "execution_count": 16,
   "metadata": {
    "collapsed": true
   },
   "outputs": [],
   "source": [
    "class Employee:\n",
    "    def __init__(self, first, last):\n",
    "        self.first = first\n",
    "        self.last = last\n",
    "    \n",
    "    @property\n",
    "    def email(self):\n",
    "        return \"{} {}@weber.edu\".format(self.first, self.last)\n",
    "    \n",
    "    @property\n",
    "    def fullname(self):\n",
    "        return \"{} {}\".format(self.first, self.last)\n",
    "    \n",
    "    @fullname.setter\n",
    "    def fullname(self, name):\n",
    "        first, last = name.split(' ')\n",
    "        self.first = first\n",
    "        self.last = last"
   ]
  },
  {
   "cell_type": "code",
   "execution_count": 17,
   "metadata": {},
   "outputs": [
    {
     "name": "stdout",
     "output_type": "stream",
     "text": [
      "John\n",
      "John Garcia@weber.edu\n",
      "John Garcia\n",
      "Mario Smith\n"
     ]
    }
   ],
   "source": [
    "# Test is\n",
    "emp1 = Employee(\"John\", \"Garcia\")\n",
    "print(emp1.first)\n",
    "print(emp1.email)\n",
    "print(emp1.fullname)\n",
    "# Update values\n",
    "emp1.fullname = \"Mario Smith\"\n",
    "print(emp1.fullname)"
   ]
  },
  {
   "cell_type": "markdown",
   "metadata": {},
   "source": [
    "### Deleters\n",
    "To do some clean up. Not as common. "
   ]
  },
  {
   "cell_type": "code",
   "execution_count": 18,
   "metadata": {
    "collapsed": true
   },
   "outputs": [],
   "source": [
    "class Employee:\n",
    "    def __init__(self, first, last):\n",
    "        self.first = first\n",
    "        self.last = last\n",
    "    \n",
    "    @property\n",
    "    def email(self):\n",
    "        return \"{} {}@weber.edu\".format(self.first, self.last)\n",
    "    \n",
    "    @property\n",
    "    def fullname(self):\n",
    "        return \"{} {}\".format(self.first, self.last)\n",
    "    \n",
    "    @fullname.setter\n",
    "    def fullname(self, name):\n",
    "        first, last = name.split(' ')\n",
    "        self.first = first\n",
    "        self.last = last\n",
    "        \n",
    "    @fullname.deleter\n",
    "    def fullname(self):\n",
    "        print(\"Delete name\")\n",
    "        self.first = None\n",
    "        self.last = None"
   ]
  },
  {
   "cell_type": "code",
   "execution_count": 20,
   "metadata": {},
   "outputs": [
    {
     "name": "stdout",
     "output_type": "stream",
     "text": [
      "John\n",
      "John Garcia@weber.edu\n",
      "John Garcia\n",
      "Mario Smith\n",
      "Delete name\n",
      "None None\n"
     ]
    }
   ],
   "source": [
    "# Test is\n",
    "emp1 = Employee(\"John\", \"Garcia\")\n",
    "print(emp1.first)\n",
    "print(emp1.email)\n",
    "print(emp1.fullname)\n",
    "# Update values\n",
    "emp1.fullname = \"Mario Smith\"\n",
    "print(emp1.fullname)\n",
    "# Delete it\n",
    "del emp1.fullname\n",
    "print(emp1.fullname)"
   ]
  },
  {
   "cell_type": "code",
   "execution_count": null,
   "metadata": {
    "collapsed": true
   },
   "outputs": [],
   "source": []
  }
 ],
 "metadata": {
  "kernelspec": {
   "display_name": "Python 3",
   "language": "python",
   "name": "python3"
  },
  "language_info": {
   "codemirror_mode": {
    "name": "ipython",
    "version": 3
   },
   "file_extension": ".py",
   "mimetype": "text/x-python",
   "name": "python",
   "nbconvert_exporter": "python",
   "pygments_lexer": "ipython3",
   "version": "3.5.1"
  }
 },
 "nbformat": 4,
 "nbformat_minor": 2
}
