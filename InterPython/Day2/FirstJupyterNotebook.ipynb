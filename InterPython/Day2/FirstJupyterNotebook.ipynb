{
 "cells": [
  {
   "cell_type": "markdown",
   "metadata": {},
   "source": [
    "# First Jupyter Book\n",
    "\n",
    "## How to run the cells\n",
    "\n",
    "# Execute cell: \n",
    "Ctrl+Enter\n",
    "\n",
    "# Execute cell and insert below: \n",
    "Shift+Enter\n",
    "\n",
    "# Delete a cell\n",
    "ESC dd"
   ]
  },
  {
   "cell_type": "code",
   "execution_count": 12,
   "metadata": {},
   "outputs": [
    {
     "name": "stdout",
     "output_type": "stream",
     "text": [
      "hello world\n"
     ]
    }
   ],
   "source": [
    "print(\"hello world\")"
   ]
  },
  {
   "cell_type": "code",
   "execution_count": 13,
   "metadata": {
    "collapsed": true
   },
   "outputs": [],
   "source": [
    "name = 'john'"
   ]
  },
  {
   "cell_type": "markdown",
   "metadata": {},
   "source": [
    "### Change cell type from code to markdown\n",
    "Type ESC (change to command mode) type m\n",
    "### Change cell type from markdown to code\n",
    "Type ESC (change to command mode) type y"
   ]
  },
  {
   "cell_type": "code",
   "execution_count": 14,
   "metadata": {},
   "outputs": [
    {
     "name": "stdout",
     "output_type": "stream",
     "text": [
      "john\n"
     ]
    }
   ],
   "source": [
    "print(name)"
   ]
  },
  {
   "cell_type": "code",
   "execution_count": 15,
   "metadata": {},
   "outputs": [
    {
     "name": "stdout",
     "output_type": "stream",
     "text": [
      "Mario\n"
     ]
    }
   ],
   "source": [
    "name = \"Mario\"\n",
    "print(name)"
   ]
  },
  {
   "cell_type": "code",
   "execution_count": 17,
   "metadata": {},
   "outputs": [
    {
     "name": "stdout",
     "output_type": "stream",
     "text": [
      "peter\n"
     ]
    }
   ],
   "source": [
    "name = \"peter\"\n",
    "print(name)"
   ]
  },
  {
   "cell_type": "markdown",
   "metadata": {},
   "source": [
    "# Sample Headline(H1)\n",
    "*Note: This will italicized.\n",
    "\n",
    "## Another headline(H2)\n",
    "\n",
    "This is a normal paragraph. You can write whatever you want here. \n",
    "\n",
    "Basic formatting of *italics* and **bold** is supported. \n",
    "This can be nested **nested**like* so. \n",
    "\n",
    "### What the notebook shows:\n",
    "1. How to get started\n",
    "2. Some sortcuts\n",
    "3. Other stuff"
   ]
  },
  {
   "cell_type": "markdown",
   "metadata": {},
   "source": [
    "## Jupyter supports bash commands\n",
    "prefix with **!**"
   ]
  },
  {
   "cell_type": "code",
   "execution_count": 18,
   "metadata": {},
   "outputs": [
    {
     "name": "stdout",
     "output_type": "stream",
     "text": [
      "appdirs (1.4.3)\n",
      "bleach (2.0.0)\n",
      "colorama (0.3.9)\n",
      "cycler (0.10.0)\n",
      "decorator (4.0.11)\n",
      "entrypoints (0.2.2)\n",
      "html5lib (0.999999999)\n",
      "ipykernel (4.6.1)\n",
      "ipython (6.0.0)\n",
      "ipython-genutils (0.2.0)\n",
      "ipywidgets (6.0.0)\n",
      "jedi (0.10.2)\n",
      "Jinja2 (2.9.6)\n",
      "jsonschema (2.6.0)\n",
      "jupyter (1.0.0)\n",
      "jupyter-client (5.0.1)\n",
      "jupyter-console (5.1.0)\n",
      "jupyter-core (4.3.0)\n",
      "MarkupSafe (1.0)\n",
      "matplotlib (2.0.2)\n",
      "mistune (0.7.4)\n",
      "nbconvert (5.1.1)\n",
      "nbformat (4.3.0)\n",
      "notebook (5.0.0)\n",
      "numpy (1.12.1)\n",
      "packaging (16.8)\n",
      "pandas (0.20.1)\n",
      "pandocfilters (1.4.1)\n",
      "pickleshare (0.7.4)\n",
      "pip (9.0.1)\n",
      "prompt-toolkit (1.0.14)\n",
      "Pygments (2.2.0)\n",
      "pyparsing (2.2.0)\n",
      "python-dateutil (2.6.0)\n",
      "pytz (2017.2)\n",
      "pyzmq (16.0.2)\n",
      "qtconsole (4.3.0)\n",
      "setuptools (35.0.2)\n",
      "simplegeneric (0.8.1)\n",
      "six (1.10.0)\n",
      "testpath (0.3)\n",
      "tornado (4.5.1)\n",
      "traitlets (4.3.2)\n",
      "wcwidth (0.1.7)\n",
      "webencodings (0.5.1)\n",
      "widgetsnbextension (2.0.0)\n",
      "win-unicode-console (0.5)\n"
     ]
    },
    {
     "name": "stderr",
     "output_type": "stream",
     "text": [
      "DEPRECATION: The default format will switch to columns in the future. You can use --format=(legacy|columns) (or define a format=(legacy|columns) in your pip.conf under the [list] section) to disable this warning.\n"
     ]
    }
   ],
   "source": [
    "!pip list "
   ]
  },
  {
   "cell_type": "markdown",
   "metadata": {},
   "source": [
    "## Magic commads\n",
    "prefix them with %"
   ]
  },
  {
   "cell_type": "code",
   "execution_count": 19,
   "metadata": {},
   "outputs": [
    {
     "data": {
      "application/json": {
       "cell": {
        "!": "OSMagics",
        "HTML": "Other",
        "SVG": "Other",
        "bash": "Other",
        "capture": "ExecutionMagics",
        "cmd": "Other",
        "debug": "ExecutionMagics",
        "file": "Other",
        "html": "DisplayMagics",
        "javascript": "DisplayMagics",
        "js": "DisplayMagics",
        "latex": "DisplayMagics",
        "perl": "Other",
        "prun": "ExecutionMagics",
        "pypy": "Other",
        "python": "Other",
        "python2": "Other",
        "python3": "Other",
        "ruby": "Other",
        "script": "ScriptMagics",
        "sh": "Other",
        "svg": "DisplayMagics",
        "sx": "OSMagics",
        "system": "OSMagics",
        "time": "ExecutionMagics",
        "timeit": "ExecutionMagics",
        "writefile": "OSMagics"
       },
       "line": {
        "alias": "OSMagics",
        "alias_magic": "BasicMagics",
        "autocall": "AutoMagics",
        "automagic": "AutoMagics",
        "autosave": "KernelMagics",
        "bookmark": "OSMagics",
        "cd": "OSMagics",
        "clear": "KernelMagics",
        "cls": "KernelMagics",
        "colors": "BasicMagics",
        "config": "ConfigMagics",
        "connect_info": "KernelMagics",
        "copy": "Other",
        "ddir": "Other",
        "debug": "ExecutionMagics",
        "dhist": "OSMagics",
        "dirs": "OSMagics",
        "doctest_mode": "BasicMagics",
        "echo": "Other",
        "ed": "Other",
        "edit": "KernelMagics",
        "env": "OSMagics",
        "gui": "BasicMagics",
        "hist": "Other",
        "history": "HistoryMagics",
        "killbgscripts": "ScriptMagics",
        "ldir": "Other",
        "less": "KernelMagics",
        "load": "CodeMagics",
        "load_ext": "ExtensionMagics",
        "loadpy": "CodeMagics",
        "logoff": "LoggingMagics",
        "logon": "LoggingMagics",
        "logstart": "LoggingMagics",
        "logstate": "LoggingMagics",
        "logstop": "LoggingMagics",
        "ls": "Other",
        "lsmagic": "BasicMagics",
        "macro": "ExecutionMagics",
        "magic": "BasicMagics",
        "matplotlib": "PylabMagics",
        "mkdir": "Other",
        "more": "KernelMagics",
        "notebook": "BasicMagics",
        "page": "BasicMagics",
        "pastebin": "CodeMagics",
        "pdb": "ExecutionMagics",
        "pdef": "NamespaceMagics",
        "pdoc": "NamespaceMagics",
        "pfile": "NamespaceMagics",
        "pinfo": "NamespaceMagics",
        "pinfo2": "NamespaceMagics",
        "pip": "BasicMagics",
        "popd": "OSMagics",
        "pprint": "BasicMagics",
        "precision": "BasicMagics",
        "profile": "BasicMagics",
        "prun": "ExecutionMagics",
        "psearch": "NamespaceMagics",
        "psource": "NamespaceMagics",
        "pushd": "OSMagics",
        "pwd": "OSMagics",
        "pycat": "OSMagics",
        "pylab": "PylabMagics",
        "qtconsole": "KernelMagics",
        "quickref": "BasicMagics",
        "recall": "HistoryMagics",
        "rehashx": "OSMagics",
        "reload_ext": "ExtensionMagics",
        "ren": "Other",
        "rep": "Other",
        "rerun": "HistoryMagics",
        "reset": "NamespaceMagics",
        "reset_selective": "NamespaceMagics",
        "rmdir": "Other",
        "run": "ExecutionMagics",
        "save": "CodeMagics",
        "sc": "OSMagics",
        "set_env": "OSMagics",
        "store": "StoreMagics",
        "sx": "OSMagics",
        "system": "OSMagics",
        "tb": "ExecutionMagics",
        "time": "ExecutionMagics",
        "timeit": "ExecutionMagics",
        "unalias": "OSMagics",
        "unload_ext": "ExtensionMagics",
        "who": "NamespaceMagics",
        "who_ls": "NamespaceMagics",
        "whos": "NamespaceMagics",
        "xdel": "NamespaceMagics",
        "xmode": "BasicMagics"
       }
      },
      "text/plain": [
       "Available line magics:\n",
       "%alias  %alias_magic  %autocall  %automagic  %autosave  %bookmark  %cd  %clear  %cls  %colors  %config  %connect_info  %copy  %ddir  %debug  %dhist  %dirs  %doctest_mode  %echo  %ed  %edit  %env  %gui  %hist  %history  %killbgscripts  %ldir  %less  %load  %load_ext  %loadpy  %logoff  %logon  %logstart  %logstate  %logstop  %ls  %lsmagic  %macro  %magic  %matplotlib  %mkdir  %more  %notebook  %page  %pastebin  %pdb  %pdef  %pdoc  %pfile  %pinfo  %pinfo2  %popd  %pprint  %precision  %profile  %prun  %psearch  %psource  %pushd  %pwd  %pycat  %pylab  %qtconsole  %quickref  %recall  %rehashx  %reload_ext  %ren  %rep  %rerun  %reset  %reset_selective  %rmdir  %run  %save  %sc  %set_env  %store  %sx  %system  %tb  %time  %timeit  %unalias  %unload_ext  %who  %who_ls  %whos  %xdel  %xmode\n",
       "\n",
       "Available cell magics:\n",
       "%%!  %%HTML  %%SVG  %%bash  %%capture  %%cmd  %%debug  %%file  %%html  %%javascript  %%js  %%latex  %%perl  %%prun  %%pypy  %%python  %%python2  %%python3  %%ruby  %%script  %%sh  %%svg  %%sx  %%system  %%time  %%timeit  %%writefile\n",
       "\n",
       "Automagic is ON, % prefix IS NOT needed for line magics."
      ]
     },
     "execution_count": 19,
     "metadata": {},
     "output_type": "execute_result"
    }
   ],
   "source": [
    "%lsmagic"
   ]
  },
  {
   "cell_type": "code",
   "execution_count": 20,
   "metadata": {},
   "outputs": [
    {
     "data": {
      "text/plain": [
       "'d:\\\\virtualenvs'"
      ]
     },
     "execution_count": 20,
     "metadata": {},
     "output_type": "execute_result"
    }
   ],
   "source": [
    "%pwd"
   ]
  },
  {
   "cell_type": "code",
   "execution_count": 21,
   "metadata": {},
   "outputs": [
    {
     "name": "stdout",
     "output_type": "stream",
     "text": [
      " Volume in drive D is STORE N GO\n",
      " Volume Serial Number is 2A07-1AB9\n",
      "\n",
      " Directory of d:\\virtualenvs\n",
      "\n",
      "05/16/2017  08:47 AM    <DIR>          .\n",
      "05/16/2017  08:47 AM    <DIR>          ..\n",
      "05/16/2017  10:13 AM    <DIR>          .ipynb_checkpoints\n",
      "05/16/2017  08:49 AM    <DIR>          amaze\n",
      "05/16/2017  10:35 AM            10,762 FirstJupyterNotebook.ipynb\n",
      "05/16/2017  09:31 AM    <DIR>          notes\n",
      "               1 File(s)         10,762 bytes\n",
      "               5 Dir(s)  15,012,913,152 bytes free\n"
     ]
    }
   ],
   "source": [
    "%ls"
   ]
  },
  {
   "cell_type": "markdown",
   "metadata": {},
   "source": [
    "One of the most common magic commands is the **%matplotlib inline** magic command which enables plots to be display"
   ]
  },
  {
   "cell_type": "code",
   "execution_count": 23,
   "metadata": {
    "collapsed": true
   },
   "outputs": [],
   "source": [
    "%matplotlib inline"
   ]
  },
  {
   "cell_type": "code",
   "execution_count": 22,
   "metadata": {},
   "outputs": [
    {
     "data": {
      "image/png": "[encoded data removed]",
      "text/plain": [
       "<matplotlib.figure.Figure at 0x1a347fb2b00>"
      ]
     },
     "metadata": {},
     "output_type": "display_data"
    }
   ],
   "source": [
    "\"\"\"\n",
    "Simple demo of scatter plot\n",
    "\"\"\"\n",
    "import numpy as np\n",
    "import matplotlib.pyplot as plt\n",
    "\n",
    "N = 50\n",
    "x = np.random.rand(N)\n",
    "y = np.random.rand(N)\n",
    "colors = np.random.rand(N)\n",
    "\n",
    "area = np.pi * (15 * np.random.rand(N))**2 # 0 to 15 point radius\n",
    "\n",
    "plt.scatter(x, y, s=area, c=colors, alpha=0.5)\n",
    "plt.show()"
   ]
  },
  {
   "cell_type": "markdown",
   "metadata": {},
   "source": [
    "If it stays spinning **[\\*]**, run this command:\n",
    "**Kernel->Restart & Clear Output**"
   ]
  },
  {
   "cell_type": "markdown",
   "metadata": {},
   "source": [
    "## HTML\n",
    "Magic commands ro render the cell as HTML"
   ]
  },
  {
   "cell_type": "code",
   "execution_count": 24,
   "metadata": {},
   "outputs": [
    {
     "data": {
      "text/html": [
       "<iframe width=\"560\" height=\"315\" \n",
       "src=\"https://www.youtube.com/embed/4h3m7B4v6Zc\" \n",
       "frameborder=\"0\" allowfullscreen></iframe>"
      ],
      "text/plain": [
       "<IPython.core.display.HTML object>"
      ]
     },
     "metadata": {},
     "output_type": "display_data"
    }
   ],
   "source": [
    "%%HTML\n",
    "<iframe width=\"560\" height=\"315\" \n",
    "src=\"https://www.youtube.com/embed/4h3m7B4v6Zc\" \n",
    "frameborder=\"0\" allowfullscreen></iframe>"
   ]
  },
  {
   "cell_type": "markdown",
   "metadata": {},
   "source": [
    "## DataFrames\n",
    "Use it to draw frames using pandas\n"
   ]
  },
  {
   "cell_type": "code",
   "execution_count": 26,
   "metadata": {},
   "outputs": [
    {
     "data": {
      "text/html": [
       "<div>\n",
       "<style>\n",
       "    .dataframe thead tr:only-child th {\n",
       "        text-align: right;\n",
       "    }\n",
       "\n",
       "    .dataframe thead th {\n",
       "        text-align: left;\n",
       "    }\n",
       "\n",
       "    .dataframe tbody tr th {\n",
       "        vertical-align: top;\n",
       "    }\n",
       "</style>\n",
       "<table border=\"1\" class=\"dataframe\">\n",
       "  <thead>\n",
       "    <tr style=\"text-align: right;\">\n",
       "      <th></th>\n",
       "      <th>0</th>\n",
       "      <th>1</th>\n",
       "      <th>2</th>\n",
       "      <th>3</th>\n",
       "      <th>4</th>\n",
       "    </tr>\n",
       "  </thead>\n",
       "  <tbody>\n",
       "    <tr>\n",
       "      <th>0</th>\n",
       "      <td>-0.124174</td>\n",
       "      <td>-1.185759</td>\n",
       "      <td>-0.733570</td>\n",
       "      <td>-0.354806</td>\n",
       "      <td>0.638611</td>\n",
       "    </tr>\n",
       "    <tr>\n",
       "      <th>1</th>\n",
       "      <td>-0.275206</td>\n",
       "      <td>-0.684175</td>\n",
       "      <td>-0.874433</td>\n",
       "      <td>-0.725632</td>\n",
       "      <td>1.691286</td>\n",
       "    </tr>\n",
       "    <tr>\n",
       "      <th>2</th>\n",
       "      <td>1.607765</td>\n",
       "      <td>0.799599</td>\n",
       "      <td>1.024993</td>\n",
       "      <td>0.518900</td>\n",
       "      <td>1.904714</td>\n",
       "    </tr>\n",
       "    <tr>\n",
       "      <th>3</th>\n",
       "      <td>-0.446075</td>\n",
       "      <td>0.249616</td>\n",
       "      <td>-1.599913</td>\n",
       "      <td>-1.694068</td>\n",
       "      <td>-0.723085</td>\n",
       "    </tr>\n",
       "    <tr>\n",
       "      <th>4</th>\n",
       "      <td>-0.072830</td>\n",
       "      <td>-0.020441</td>\n",
       "      <td>0.619636</td>\n",
       "      <td>1.942458</td>\n",
       "      <td>1.345221</td>\n",
       "    </tr>\n",
       "    <tr>\n",
       "      <th>5</th>\n",
       "      <td>0.167761</td>\n",
       "      <td>2.602890</td>\n",
       "      <td>0.300838</td>\n",
       "      <td>-0.743497</td>\n",
       "      <td>0.315424</td>\n",
       "    </tr>\n",
       "    <tr>\n",
       "      <th>6</th>\n",
       "      <td>1.616282</td>\n",
       "      <td>-1.307753</td>\n",
       "      <td>1.260561</td>\n",
       "      <td>1.001406</td>\n",
       "      <td>0.378877</td>\n",
       "    </tr>\n",
       "    <tr>\n",
       "      <th>7</th>\n",
       "      <td>0.653248</td>\n",
       "      <td>0.064383</td>\n",
       "      <td>0.836034</td>\n",
       "      <td>-0.592536</td>\n",
       "      <td>1.746628</td>\n",
       "    </tr>\n",
       "    <tr>\n",
       "      <th>8</th>\n",
       "      <td>0.044483</td>\n",
       "      <td>1.542264</td>\n",
       "      <td>1.836577</td>\n",
       "      <td>0.450069</td>\n",
       "      <td>-0.212793</td>\n",
       "    </tr>\n",
       "    <tr>\n",
       "      <th>9</th>\n",
       "      <td>1.182890</td>\n",
       "      <td>1.069700</td>\n",
       "      <td>2.368169</td>\n",
       "      <td>-0.417484</td>\n",
       "      <td>0.223068</td>\n",
       "    </tr>\n",
       "  </tbody>\n",
       "</table>\n",
       "</div>"
      ],
      "text/plain": [
       "          0         1         2         3         4\n",
       "0 -0.124174 -1.185759 -0.733570 -0.354806  0.638611\n",
       "1 -0.275206 -0.684175 -0.874433 -0.725632  1.691286\n",
       "2  1.607765  0.799599  1.024993  0.518900  1.904714\n",
       "3 -0.446075  0.249616 -1.599913 -1.694068 -0.723085\n",
       "4 -0.072830 -0.020441  0.619636  1.942458  1.345221\n",
       "5  0.167761  2.602890  0.300838 -0.743497  0.315424\n",
       "6  1.616282 -1.307753  1.260561  1.001406  0.378877\n",
       "7  0.653248  0.064383  0.836034 -0.592536  1.746628\n",
       "8  0.044483  1.542264  1.836577  0.450069 -0.212793\n",
       "9  1.182890  1.069700  2.368169 -0.417484  0.223068"
      ]
     },
     "execution_count": 26,
     "metadata": {},
     "output_type": "execute_result"
    }
   ],
   "source": [
    "import pandas as pd\n",
    "import numpy as np\n",
    "# Create random data \n",
    "# 5 cols, 10 rows\n",
    "df = pd.DataFrame(np.random.randn(10,5))\n",
    "df  # display it"
   ]
  },
  {
   "cell_type": "markdown",
   "metadata": {},
   "source": [
    "# Print/Export Options\n",
    "PDF, HTML, notebooks\n",
    "\n",
    "Many examples online. "
   ]
  },
  {
   "cell_type": "markdown",
   "metadata": {},
   "source": [
    "Install more packages:"
   ]
  },
  {
   "cell_type": "code",
   "execution_count": 27,
   "metadata": {},
   "outputs": [
    {
     "name": "stdout",
     "output_type": "stream",
     "text": [
      "Collecting pandoc\n",
      "  Downloading pandoc-1.0.0b2.tar.gz (516kB)\n",
      "Collecting ply (from pandoc)\n",
      "  Downloading ply-3.10.tar.gz (150kB)\n",
      "Installing collected packages: ply, pandoc\n",
      "  Running setup.py install for ply: started\n",
      "    Running setup.py install for ply: finished with status 'done'\n",
      "  Running setup.py install for pandoc: started\n",
      "    Running setup.py install for pandoc: finished with status 'done'\n",
      "Successfully installed pandoc-1.0.0b2 ply-3.10\n"
     ]
    }
   ],
   "source": [
    "!pip install pandoc "
   ]
  }
 ],
 "metadata": {
  "kernelspec": {
   "display_name": "Python 3",
   "language": "python",
   "name": "python3"
  },
  "language_info": {
   "codemirror_mode": {
    "name": "ipython",
    "version": 3
   },
   "file_extension": ".py",
   "mimetype": "text/x-python",
   "name": "python",
   "nbconvert_exporter": "python",
   "pygments_lexer": "ipython3",
   "version": "3.5.1"
  }
 },
 "nbformat": 4,
 "nbformat_minor": 2
}
