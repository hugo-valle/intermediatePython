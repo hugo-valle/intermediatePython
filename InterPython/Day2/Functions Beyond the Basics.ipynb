{
 "cells": [
  {
   "cell_type": "markdown",
   "metadata": {},
   "source": [
    "# Discuss Callable Objects, callable instances, and lambdas"
   ]
  },
  {
   "cell_type": "markdown",
   "metadata": {},
   "source": [
    "### Basic Function review\n",
    "How are they resolved"
   ]
  },
  {
   "cell_type": "code",
   "execution_count": 4,
   "metadata": {},
   "outputs": [
    {
     "data": {
      "text/plain": [
       "<function __main__.resolve>"
      ]
     },
     "execution_count": 4,
     "metadata": {},
     "output_type": "execute_result"
    }
   ],
   "source": [
    "import socket\n",
    "\n",
    "def resolve(host):\n",
    "    return socket.gethostbyname(host)\n",
    "\n",
    "# call it. Functions are callable object \n",
    "resolve"
   ]
  },
  {
   "cell_type": "code",
   "execution_count": 5,
   "metadata": {},
   "outputs": [
    {
     "data": {
      "text/plain": [
       "'137.190.8.10'"
      ]
     },
     "execution_count": 5,
     "metadata": {},
     "output_type": "execute_result"
    }
   ],
   "source": [
    "# Run it\n",
    "resolve(\"weber.edu\")"
   ]
  },
  {
   "cell_type": "markdown",
   "metadata": {},
   "source": [
    "## Callable Instances\n",
    "Use the **\\_\\_call\\_\\_()** special method."
   ]
  },
  {
   "cell_type": "code",
   "execution_count": 6,
   "metadata": {
    "collapsed": true
   },
   "outputs": [],
   "source": [
    "import socket\n",
    "\n",
    "class Resolver:\n",
    "    def __init__(self):\n",
    "        self.cache = {}\n",
    "    \n",
    "    def __call__(self, host):\n",
    "        if host not in self.cache:\n",
    "            self.cache[host] = socket.gethostbyname(host)\n",
    "        return self.cache"
   ]
  },
  {
   "cell_type": "code",
   "execution_count": 7,
   "metadata": {},
   "outputs": [
    {
     "data": {
      "text/plain": [
       "{'weber.edu': '137.190.8.10'}"
      ]
     },
     "execution_count": 7,
     "metadata": {},
     "output_type": "execute_result"
    }
   ],
   "source": [
    "resolve = Resolver()\n",
    "resolve(\"weber.edu\")"
   ]
  },
  {
   "cell_type": "code",
   "execution_count": 8,
   "metadata": {},
   "outputs": [
    {
     "data": {
      "text/plain": [
       "{'google.com': '172.217.5.78', 'weber.edu': '137.190.8.10'}"
      ]
     },
     "execution_count": 8,
     "metadata": {},
     "output_type": "execute_result"
    }
   ],
   "source": [
    "resolve(\"google.com\")"
   ]
  },
  {
   "cell_type": "markdown",
   "metadata": {},
   "source": [
    "# Create more methods"
   ]
  },
  {
   "cell_type": "code",
   "execution_count": 9,
   "metadata": {
    "collapsed": true
   },
   "outputs": [],
   "source": [
    "import socket\n",
    "\n",
    "class Resolver:\n",
    "    def __init__(self):\n",
    "        self.cache = {}\n",
    "    \n",
    "    def __call__(self, host):\n",
    "        if host not in self.cache:\n",
    "            self.cache[host] = socket.gethostbyname(host)\n",
    "        return self.cache[host]\n",
    "    \n",
    "    def clear(self):\n",
    "        self.cache.clear()\n",
    "        \n",
    "    def has_host(self, host):\n",
    "        return host in self.cache"
   ]
  },
  {
   "cell_type": "code",
   "execution_count": 10,
   "metadata": {},
   "outputs": [
    {
     "data": {
      "text/plain": [
       "'137.190.8.10'"
      ]
     },
     "execution_count": 10,
     "metadata": {},
     "output_type": "execute_result"
    }
   ],
   "source": [
    "resolve = Resolver()\n",
    "resolve(\"weber.edu\")"
   ]
  },
  {
   "cell_type": "code",
   "execution_count": 11,
   "metadata": {},
   "outputs": [
    {
     "data": {
      "text/plain": [
       "True"
      ]
     },
     "execution_count": 11,
     "metadata": {},
     "output_type": "execute_result"
    }
   ],
   "source": [
    "resolve.has_host(\"weber.edu\")"
   ]
  },
  {
   "cell_type": "code",
   "execution_count": 12,
   "metadata": {
    "collapsed": true
   },
   "outputs": [],
   "source": [
    "resolve.clear()"
   ]
  },
  {
   "cell_type": "code",
   "execution_count": 13,
   "metadata": {},
   "outputs": [
    {
     "data": {
      "text/plain": [
       "False"
      ]
     },
     "execution_count": 13,
     "metadata": {},
     "output_type": "execute_result"
    }
   ],
   "source": [
    "resolve.has_host(\"weber.edu\")"
   ]
  },
  {
   "cell_type": "markdown",
   "metadata": {},
   "source": [
    "The **dunder-call** method can be use to define classes, which when instantiated can be called using regular function syntax. "
   ]
  },
  {
   "cell_type": "markdown",
   "metadata": {},
   "source": [
    "## Classes are callable"
   ]
  },
  {
   "cell_type": "code",
   "execution_count": 14,
   "metadata": {},
   "outputs": [
    {
     "data": {
      "text/plain": [
       "__main__.Resolver"
      ]
     },
     "execution_count": 14,
     "metadata": {},
     "output_type": "execute_result"
    }
   ],
   "source": [
    "Resolver"
   ]
  },
  {
   "cell_type": "code",
   "execution_count": 15,
   "metadata": {},
   "outputs": [
    {
     "data": {
      "text/plain": [
       "<__main__.Resolver at 0x2abd2e6e7b8>"
      ]
     },
     "execution_count": 15,
     "metadata": {},
     "output_type": "execute_result"
    }
   ],
   "source": [
    "resolve = Resolver()\n",
    "resolve"
   ]
  },
  {
   "cell_type": "code",
   "execution_count": 16,
   "metadata": {
    "collapsed": true
   },
   "outputs": [],
   "source": [
    "def sequence_class(immutable):\n",
    "    if immutable:\n",
    "        cls = tuple\n",
    "    else:\n",
    "        cls = list\n",
    "    \n",
    "    return cls"
   ]
  },
  {
   "cell_type": "code",
   "execution_count": 17,
   "metadata": {
    "collapsed": true
   },
   "outputs": [],
   "source": [
    "seq = sequence_class(immutable=True)"
   ]
  },
  {
   "cell_type": "code",
   "execution_count": 18,
   "metadata": {},
   "outputs": [
    {
     "name": "stdout",
     "output_type": "stream",
     "text": [
      "('T', 'i', 'm', 'b', 'u', 'k', 't', 'u')\n",
      "<class 'tuple'>\n"
     ]
    }
   ],
   "source": [
    "t = seq(\"Timbuktu\")\n",
    "print(t)\n",
    "print(type(t))"
   ]
  },
  {
   "cell_type": "markdown",
   "metadata": {},
   "source": [
    "## Lambdas\n",
    "Anonymous functions. \n",
    "It uses the **lambda construct**\n",
    "A good example the **sorted** key word. It is a callable, that expects a series, which accepts optional key argument"
   ]
  },
  {
   "cell_type": "code",
   "execution_count": 19,
   "metadata": {},
   "outputs": [
    {
     "name": "stdout",
     "output_type": "stream",
     "text": [
      "Help on built-in function sorted in module builtins:\n",
      "\n",
      "sorted(iterable, key=None, reverse=False)\n",
      "    Return a new list containing all items from the iterable in ascending order.\n",
      "    \n",
      "    A custom key function can be supplied to customise the sort order, and the\n",
      "    reverse flag can be set to request the result in descending order.\n",
      "\n"
     ]
    }
   ],
   "source": [
    "help(sorted)"
   ]
  },
  {
   "cell_type": "code",
   "execution_count": 20,
   "metadata": {
    "collapsed": true
   },
   "outputs": [],
   "source": [
    "def test_sequence_class():\n",
    "    seq = sequence_class(immutable=True)\n",
    "    t = seq(\"Timbuktu\")\n",
    "    print(t)\n",
    "    print(type(t))\n",
    "    "
   ]
  },
  {
   "cell_type": "code",
   "execution_count": 23,
   "metadata": {
    "collapsed": true
   },
   "outputs": [],
   "source": [
    "def test_lambda():\n",
    "    scientists = [\"marie Curie\",\n",
    "                 \"Albert Einstein\",\n",
    "                 \"Niels Bohr\",\n",
    "                 \"Charles Darwing\",\n",
    "                 \"Issac Newton\"]\n",
    "    print(sorted(scientists, key=lambda name: name.split()[-1]))"
   ]
  },
  {
   "cell_type": "code",
   "execution_count": 24,
   "metadata": {},
   "outputs": [
    {
     "name": "stdout",
     "output_type": "stream",
     "text": [
      "['Niels Bohr', 'marie Curie', 'Charles Darwing', 'Albert Einstein', 'Issac Newton']\n"
     ]
    }
   ],
   "source": [
    "test_lambda()"
   ]
  },
  {
   "cell_type": "code",
   "execution_count": 25,
   "metadata": {},
   "outputs": [
    {
     "data": {
      "text/plain": [
       "<function __main__.<lambda>>"
      ]
     },
     "execution_count": 25,
     "metadata": {},
     "output_type": "execute_result"
    }
   ],
   "source": [
    "# Define lambda\n",
    "last_name = lambda name: name.split()[-1]\n",
    "last_name"
   ]
  },
  {
   "cell_type": "code",
   "execution_count": 26,
   "metadata": {},
   "outputs": [
    {
     "data": {
      "text/plain": [
       "'Tesla'"
      ]
     },
     "execution_count": 26,
     "metadata": {},
     "output_type": "execute_result"
    }
   ],
   "source": [
    "last_name(\"Nikola Tesla\")"
   ]
  },
  {
   "cell_type": "code",
   "execution_count": 27,
   "metadata": {},
   "outputs": [
    {
     "data": {
      "text/plain": [
       "'Nikola'"
      ]
     },
     "execution_count": 27,
     "metadata": {},
     "output_type": "execute_result"
    }
   ],
   "source": [
    "def first_name(name):\n",
    "    return name.split()[0]\n",
    "\n",
    "first_name(\"Nikola Tesla\")"
   ]
  },
  {
   "cell_type": "markdown",
   "metadata": {},
   "source": [
    "## When to use lambda vs defenitions\n",
    "\n",
    "### Lambda\n",
    "1. Expression which evaluates a function\n",
    "2. Anonymous\n",
    "3. Argument list terminated by colon, separated by commas\n",
    "4. Zero or more arguments supported: zero arguments => lambda:\n",
    "5. Body is a single expression\n",
    "6. The return value is given by the body of the expression. \n",
    "7. Awkward or impossible to test\n",
    "### Def\n",
    "1. Statemen which defines a function and binds it to a name\n",
    "2. Must have a name\n",
    "3. Arguments delimited by parenthesis, separated by commas\n",
    "4. Zero or more arguments supported: zero arguments => empty parenthesis\n",
    "5. The body is an indented block of statements\n",
    "6. A return statement is required to return anything other than None. \n",
    "7. Easy to access for testing"
   ]
  },
  {
   "cell_type": "markdown",
   "metadata": {},
   "source": [
    "## Detecting Callable Objects\n",
    "Use the **callable()** function"
   ]
  },
  {
   "cell_type": "code",
   "execution_count": 28,
   "metadata": {},
   "outputs": [
    {
     "data": {
      "text/plain": [
       "True"
      ]
     },
     "execution_count": 28,
     "metadata": {},
     "output_type": "execute_result"
    }
   ],
   "source": [
    "def is_even(x):\n",
    "    return x % 2 == 0\n",
    "\n",
    "callable(is_even)"
   ]
  },
  {
   "cell_type": "markdown",
   "metadata": {},
   "source": [
    "Lambdas are callable:"
   ]
  },
  {
   "cell_type": "code",
   "execution_count": 29,
   "metadata": {},
   "outputs": [
    {
     "data": {
      "text/plain": [
       "True"
      ]
     },
     "execution_count": 29,
     "metadata": {},
     "output_type": "execute_result"
    }
   ],
   "source": [
    "is_odd = lambda x: x % 2 == 1\n",
    "callable(is_odd)"
   ]
  },
  {
   "cell_type": "markdown",
   "metadata": {},
   "source": [
    "Classes are callable:"
   ]
  },
  {
   "cell_type": "code",
   "execution_count": 30,
   "metadata": {},
   "outputs": [
    {
     "data": {
      "text/plain": [
       "True"
      ]
     },
     "execution_count": 30,
     "metadata": {},
     "output_type": "execute_result"
    }
   ],
   "source": [
    "callable(list)"
   ]
  },
  {
   "cell_type": "markdown",
   "metadata": {},
   "source": [
    "Methods are callable"
   ]
  },
  {
   "cell_type": "code",
   "execution_count": 31,
   "metadata": {},
   "outputs": [
    {
     "data": {
      "text/plain": [
       "True"
      ]
     },
     "execution_count": 31,
     "metadata": {},
     "output_type": "execute_result"
    }
   ],
   "source": [
    "callable(list.append)"
   ]
  },
  {
   "cell_type": "markdown",
   "metadata": {},
   "source": [
    "Instance Objects can be callable by defining the dunder-call method"
   ]
  },
  {
   "cell_type": "code",
   "execution_count": 32,
   "metadata": {},
   "outputs": [
    {
     "data": {
      "text/plain": [
       "True"
      ]
     },
     "execution_count": 32,
     "metadata": {},
     "output_type": "execute_result"
    }
   ],
   "source": [
    "class CallMe:\n",
    "    def __call__(self):\n",
    "        print(\"Called\")\n",
    "\n",
    "call_me = CallMe()\n",
    "callable(call_me)"
   ]
  },
  {
   "cell_type": "markdown",
   "metadata": {},
   "source": [
    "BUT, not everything is callable, there are plenty of objects that are not:"
   ]
  },
  {
   "cell_type": "code",
   "execution_count": 33,
   "metadata": {},
   "outputs": [
    {
     "data": {
      "text/plain": [
       "False"
      ]
     },
     "execution_count": 33,
     "metadata": {},
     "output_type": "execute_result"
    }
   ],
   "source": [
    "callable('This is not callable')"
   ]
  },
  {
   "cell_type": "markdown",
   "metadata": {
    "collapsed": true
   },
   "source": [
    "## Positional Arguments"
   ]
  },
  {
   "cell_type": "code",
   "execution_count": 1,
   "metadata": {},
   "outputs": [
    {
     "name": "stdout",
     "output_type": "stream",
     "text": [
      "one\n"
     ]
    }
   ],
   "source": [
    "# One positional argument\n",
    "print(\"one\")"
   ]
  },
  {
   "cell_type": "code",
   "execution_count": 2,
   "metadata": {},
   "outputs": [
    {
     "name": "stdout",
     "output_type": "stream",
     "text": [
      "one two\n"
     ]
    }
   ],
   "source": [
    "# Two positional arguments\n",
    "print(\"one\", \"two\")"
   ]
  },
  {
   "cell_type": "markdown",
   "metadata": {},
   "source": [
    "### Arbitrary number of arguments **\\*args**"
   ]
  },
  {
   "cell_type": "code",
   "execution_count": 3,
   "metadata": {
    "collapsed": true
   },
   "outputs": [],
   "source": [
    "def hyper_volume(*args):\n",
    "    print(args)\n",
    "    print(type(args))"
   ]
  },
  {
   "cell_type": "code",
   "execution_count": 5,
   "metadata": {},
   "outputs": [
    {
     "name": "stdout",
     "output_type": "stream",
     "text": [
      "(3, 4)\n",
      "<class 'tuple'>\n",
      "(3, 4, 5, 6)\n",
      "<class 'tuple'>\n"
     ]
    }
   ],
   "source": [
    "# test it\n",
    "hyper_volume(3, 4)\n",
    "hyper_volume(3, 4, 5, 6)"
   ]
  },
  {
   "cell_type": "code",
   "execution_count": 6,
   "metadata": {
    "collapsed": true
   },
   "outputs": [],
   "source": [
    "def hyper_volume(*lengths):\n",
    "    i = iter(lengths)\n",
    "    v = next(i)\n",
    "    for length in i:\n",
    "        v *= length\n",
    "    \n",
    "    return v"
   ]
  },
  {
   "cell_type": "code",
   "execution_count": 8,
   "metadata": {},
   "outputs": [
    {
     "data": {
      "text/plain": [
       "12"
      ]
     },
     "execution_count": 8,
     "metadata": {},
     "output_type": "execute_result"
    }
   ],
   "source": [
    "# Test it\n",
    "hyper_volume(3, 4)"
   ]
  },
  {
   "cell_type": "code",
   "execution_count": 9,
   "metadata": {},
   "outputs": [
    {
     "data": {
      "text/plain": [
       "36"
      ]
     },
     "execution_count": 9,
     "metadata": {},
     "output_type": "execute_result"
    }
   ],
   "source": [
    "hyper_volume(3, 4, 3)"
   ]
  },
  {
   "cell_type": "code",
   "execution_count": 10,
   "metadata": {},
   "outputs": [
    {
     "data": {
      "text/plain": [
       "288"
      ]
     },
     "execution_count": 10,
     "metadata": {},
     "output_type": "execute_result"
    }
   ],
   "source": [
    "hyper_volume(3, 4, 3, 8)"
   ]
  },
  {
   "cell_type": "code",
   "execution_count": 11,
   "metadata": {},
   "outputs": [
    {
     "data": {
      "text/plain": [
       "3"
      ]
     },
     "execution_count": 11,
     "metadata": {},
     "output_type": "execute_result"
    }
   ],
   "source": [
    "hyper_volume(3)"
   ]
  },
  {
   "cell_type": "code",
   "execution_count": 12,
   "metadata": {},
   "outputs": [
    {
     "ename": "StopIteration",
     "evalue": "",
     "output_type": "error",
     "traceback": [
      "\u001b[1;31m---------------------------------------------------------------------------\u001b[0m",
      "\u001b[1;31mStopIteration\u001b[0m                             Traceback (most recent call last)",
      "\u001b[1;32m<ipython-input-12-54d60d596ceb>\u001b[0m in \u001b[0;36m<module>\u001b[1;34m()\u001b[0m\n\u001b[1;32m----> 1\u001b[1;33m \u001b[0mhyper_volume\u001b[0m\u001b[1;33m(\u001b[0m\u001b[1;33m)\u001b[0m\u001b[1;33m\u001b[0m\u001b[0m\n\u001b[0m",
      "\u001b[1;32m<ipython-input-6-dcf05af3ec4a>\u001b[0m in \u001b[0;36mhyper_volume\u001b[1;34m(*lengths)\u001b[0m\n\u001b[0;32m      1\u001b[0m \u001b[1;32mdef\u001b[0m \u001b[0mhyper_volume\u001b[0m\u001b[1;33m(\u001b[0m\u001b[1;33m*\u001b[0m\u001b[0mlengths\u001b[0m\u001b[1;33m)\u001b[0m\u001b[1;33m:\u001b[0m\u001b[1;33m\u001b[0m\u001b[0m\n\u001b[0;32m      2\u001b[0m     \u001b[0mi\u001b[0m \u001b[1;33m=\u001b[0m \u001b[0miter\u001b[0m\u001b[1;33m(\u001b[0m\u001b[0mlengths\u001b[0m\u001b[1;33m)\u001b[0m\u001b[1;33m\u001b[0m\u001b[0m\n\u001b[1;32m----> 3\u001b[1;33m     \u001b[0mv\u001b[0m \u001b[1;33m=\u001b[0m \u001b[0mnext\u001b[0m\u001b[1;33m(\u001b[0m\u001b[0mi\u001b[0m\u001b[1;33m)\u001b[0m\u001b[1;33m\u001b[0m\u001b[0m\n\u001b[0m\u001b[0;32m      4\u001b[0m     \u001b[1;32mfor\u001b[0m \u001b[0mlength\u001b[0m \u001b[1;32min\u001b[0m \u001b[0mi\u001b[0m\u001b[1;33m:\u001b[0m\u001b[1;33m\u001b[0m\u001b[0m\n\u001b[0;32m      5\u001b[0m         \u001b[0mv\u001b[0m \u001b[1;33m*=\u001b[0m \u001b[0mlength\u001b[0m\u001b[1;33m\u001b[0m\u001b[0m\n",
      "\u001b[1;31mStopIteration\u001b[0m: "
     ]
    }
   ],
   "source": [
    "hyper_volume()"
   ]
  },
  {
   "cell_type": "code",
   "execution_count": 13,
   "metadata": {
    "collapsed": true
   },
   "outputs": [],
   "source": [
    "# Requires one parameter at least\n",
    "def hyper_volume(length, *lengths):\n",
    "    v = length\n",
    "    for item in lengths:\n",
    "        v *= item\n",
    "    return v"
   ]
  },
  {
   "cell_type": "code",
   "execution_count": 14,
   "metadata": {},
   "outputs": [
    {
     "name": "stdout",
     "output_type": "stream",
     "text": [
      "1\n",
      "2\n",
      "4\n"
     ]
    },
    {
     "ename": "TypeError",
     "evalue": "hyper_volume() missing 1 required positional argument: 'length'",
     "output_type": "error",
     "traceback": [
      "\u001b[1;31m---------------------------------------------------------------------------\u001b[0m",
      "\u001b[1;31mTypeError\u001b[0m                                 Traceback (most recent call last)",
      "\u001b[1;32m<ipython-input-14-1a3ebe93da84>\u001b[0m in \u001b[0;36m<module>\u001b[1;34m()\u001b[0m\n\u001b[0;32m      2\u001b[0m \u001b[0mprint\u001b[0m\u001b[1;33m(\u001b[0m\u001b[0mhyper_volume\u001b[0m\u001b[1;33m(\u001b[0m\u001b[1;36m1\u001b[0m\u001b[1;33m,\u001b[0m \u001b[1;36m2\u001b[0m\u001b[1;33m)\u001b[0m\u001b[1;33m)\u001b[0m\u001b[1;33m\u001b[0m\u001b[0m\n\u001b[0;32m      3\u001b[0m \u001b[0mprint\u001b[0m\u001b[1;33m(\u001b[0m\u001b[0mhyper_volume\u001b[0m\u001b[1;33m(\u001b[0m\u001b[1;36m1\u001b[0m\u001b[1;33m,\u001b[0m \u001b[1;36m2\u001b[0m\u001b[1;33m,\u001b[0m \u001b[1;36m2\u001b[0m\u001b[1;33m)\u001b[0m\u001b[1;33m)\u001b[0m\u001b[1;33m\u001b[0m\u001b[0m\n\u001b[1;32m----> 4\u001b[1;33m \u001b[0mprint\u001b[0m\u001b[1;33m(\u001b[0m\u001b[0mhyper_volume\u001b[0m\u001b[1;33m(\u001b[0m\u001b[1;33m)\u001b[0m\u001b[1;33m)\u001b[0m\u001b[1;33m\u001b[0m\u001b[0m\n\u001b[0m",
      "\u001b[1;31mTypeError\u001b[0m: hyper_volume() missing 1 required positional argument: 'length'"
     ]
    }
   ],
   "source": [
    "print(hyper_volume(1))\n",
    "print(hyper_volume(1, 2))\n",
    "print(hyper_volume(1, 2, 2))\n",
    "print(hyper_volume())"
   ]
  },
  {
   "cell_type": "markdown",
   "metadata": {},
   "source": [
    "**\\*args** syntax only collects positional parameters"
   ]
  },
  {
   "cell_type": "markdown",
   "metadata": {},
   "source": [
    "## Arbirtrary number of **keyword** parameters\n",
    "Use **\\*\\*kwargs**"
   ]
  },
  {
   "cell_type": "code",
   "execution_count": 15,
   "metadata": {
    "collapsed": true
   },
   "outputs": [],
   "source": [
    "# name: required parameter\n",
    "# **kwargs optional keyword arguments\n",
    "def tag(name, **kwargs):\n",
    "    print(name)\n",
    "    print(kwargs)\n",
    "    print(type(kwargs))"
   ]
  },
  {
   "cell_type": "code",
   "execution_count": 16,
   "metadata": {},
   "outputs": [
    {
     "name": "stdout",
     "output_type": "stream",
     "text": [
      "img\n",
      "{'src': 'monet.jpg', 'alt': 'Sunrise by me', 'border': 1}\n",
      "<class 'dict'>\n"
     ]
    }
   ],
   "source": [
    "# Test it\n",
    "tag('img', src=\"monet.jpg\", alt=\"Sunrise by me\", border=1 )\n"
   ]
  },
  {
   "cell_type": "code",
   "execution_count": 22,
   "metadata": {
    "collapsed": true
   },
   "outputs": [],
   "source": [
    "# name: required parameter\n",
    "# **attributes optional keyword arguments\n",
    "def tag(name, **attributes):\n",
    "    result = '<' + name + ','\n",
    "    # dict.items() returns key and value\n",
    "    for key, value in attributes.items():\n",
    "        result += \" {k}, {v}\".format(k=key, v=str(value))\n",
    "    result += '>'\n",
    "    return result"
   ]
  },
  {
   "cell_type": "code",
   "execution_count": 23,
   "metadata": {},
   "outputs": [
    {
     "data": {
      "text/plain": [
       "'<img, src, monet.jpg alt, Sunrise by me border, 1>'"
      ]
     },
     "execution_count": 23,
     "metadata": {},
     "output_type": "execute_result"
    }
   ],
   "source": [
    "# Test it\n",
    "tag('img', src=\"monet.jpg\", alt=\"Sunrise by me\", border=1 )\n"
   ]
  },
  {
   "cell_type": "code",
   "execution_count": 24,
   "metadata": {},
   "outputs": [
    {
     "ename": "SyntaxError",
     "evalue": "invalid syntax (<ipython-input-24-46962524711f>, line 1)",
     "output_type": "error",
     "traceback": [
      "\u001b[1;36m  File \u001b[1;32m\"<ipython-input-24-46962524711f>\"\u001b[1;36m, line \u001b[1;32m1\u001b[0m\n\u001b[1;33m    def print_args(**kargs, *args):\u001b[0m\n\u001b[1;37m                          ^\u001b[0m\n\u001b[1;31mSyntaxError\u001b[0m\u001b[1;31m:\u001b[0m invalid syntax\n"
     ]
    }
   ],
   "source": [
    "def print_args(**kargs, *args):\n",
    "    print(kargs)\n",
    "    print(args)"
   ]
  },
  {
   "cell_type": "markdown",
   "metadata": {},
   "source": [
    "# Parameter order\n",
    "1) All your required parameters\n",
    "\n",
    "2) Follow (optional), arbirtrary positonal paramters \\*args\n",
    "\n",
    "3) Required key word parameters\n",
    "\n",
    "4) Last (optional), arbitrary key word parameters \\*\\*kwargs"
   ]
  },
  {
   "cell_type": "code",
   "execution_count": 26,
   "metadata": {},
   "outputs": [
    {
     "name": "stdout",
     "output_type": "stream",
     "text": [
      "('maybe',)\n"
     ]
    }
   ],
   "source": [
    "# This is valid\n",
    "def print_args(arg1, arg2, *args):\n",
    "    print(args)\n",
    "\n",
    "# test it\n",
    "print_args(\"yes\", \"no\", \"maybe\")"
   ]
  },
  {
   "cell_type": "code",
   "execution_count": 32,
   "metadata": {},
   "outputs": [
    {
     "name": "stdout",
     "output_type": "stream",
     "text": [
      "2\n",
      "99\n",
      "()\n",
      "Real\n",
      "{}\n",
      "------\n",
      "2\n",
      "99\n",
      "('hello', [2, 3])\n",
      "Real\n",
      "{'name': 'weber', 'last': 'state'}\n"
     ]
    }
   ],
   "source": [
    "# this is also valid\n",
    "def print_args(arg1, arg2, *args, kwarg1, **kwargs):\n",
    "    print(arg1)\n",
    "    print(arg2)\n",
    "    print(args)\n",
    "    print(kwarg1)\n",
    "    print(kwargs)\n",
    "    \n",
    "# test it\n",
    "print_args(2, 99, kwarg1=\"Real\")\n",
    "print(\"------\")\n",
    "print_args(2, 99, \"hello\", [2, 3], \n",
    "           kwarg1=\"Real\", name=\"weber\",\n",
    "          last=\"state\")"
   ]
  },
  {
   "cell_type": "markdown",
   "metadata": {},
   "source": [
    "## Forwarding arguments\n",
    "One of the most common uses of \\*args and \\*\\*kwargs is to pass the parameters from a function to another function"
   ]
  },
  {
   "cell_type": "code",
   "execution_count": 33,
   "metadata": {
    "collapsed": true
   },
   "outputs": [],
   "source": [
    "def trace(f, *args, **kwargs):\n",
    "    print(\"args =\", args)\n",
    "    print(\"kwargs =\", kwargs)\n",
    "    result = f(*args, **kwargs)\n",
    "    print(\"result =\", result)\n",
    "    return result"
   ]
  },
  {
   "cell_type": "code",
   "execution_count": 35,
   "metadata": {},
   "outputs": [
    {
     "data": {
      "text/plain": [
       "255"
      ]
     },
     "execution_count": 35,
     "metadata": {},
     "output_type": "execute_result"
    }
   ],
   "source": [
    "# test trace\n",
    "int(\"ff\", base=16)"
   ]
  },
  {
   "cell_type": "code",
   "execution_count": 37,
   "metadata": {},
   "outputs": [
    {
     "name": "stdout",
     "output_type": "stream",
     "text": [
      "args = ('ff',)\n",
      "kwargs = {'base': 16}\n",
      "result = 255\n"
     ]
    },
    {
     "data": {
      "text/plain": [
       "255"
      ]
     },
     "execution_count": 37,
     "metadata": {},
     "output_type": "execute_result"
    }
   ],
   "source": [
    "trace(int, \"ff\", base=16)\n"
   ]
  },
  {
   "cell_type": "markdown",
   "metadata": {},
   "source": [
    "## Transposing Tables"
   ]
  },
  {
   "cell_type": "code",
   "execution_count": 38,
   "metadata": {},
   "outputs": [
    {
     "name": "stdout",
     "output_type": "stream",
     "text": [
      "(12, 13)\n",
      "(14, 14)\n",
      "(15, 14)\n",
      "(15, 16)\n",
      "(17, 18)\n",
      "(21, 19)\n",
      "(22, 19)\n",
      "(23, 17)\n",
      "(20, 16)\n",
      "(15, 12)\n"
     ]
    }
   ],
   "source": [
    "def test_tables():\n",
    "    sunday  = [12, 14, 15, 15, 17, 21, 22, 23, 20, 15]\n",
    "    monday  = [13, 14, 14, 16, 18, 19, 19, 17, 16, 12]\n",
    "    tuesday = [10, 11, 11, 12, 13, 14, 14, 10, 8,  5]\n",
    "    \n",
    "    # Use the zip built-in function to combine \n",
    "    # iterables series elements into one series\n",
    "    # of tuples\n",
    "    for item in zip(sunday, monday):\n",
    "        print(item)\n",
    "        \n",
    "# Test it\n",
    "test_tables()"
   ]
  },
  {
   "cell_type": "code",
   "execution_count": 42,
   "metadata": {},
   "outputs": [
    {
     "name": "stdout",
     "output_type": "stream",
     "text": [
      "[[12, 14, 15, 15, 17, 21, 22, 23, 20, 15],\n",
      " [13, 14, 14, 16, 18, 19, 19, 17, 16, 12],\n",
      " [10, 11, 11, 12, 13, 14, 14, 10, 8, 5]]\n",
      "(12, 13, 10)\n",
      "(14, 14, 11)\n",
      "(15, 14, 11)\n",
      "(15, 16, 12)\n",
      "(17, 18, 13)\n",
      "(21, 19, 14)\n",
      "(22, 19, 14)\n",
      "(23, 17, 10)\n",
      "(20, 16, 8)\n",
      "(15, 12, 5)\n"
     ]
    }
   ],
   "source": [
    "from pprint import pprint as pp\n",
    "# Define some data\n",
    "sunday  = [12, 14, 15, 15, 17, 21, 22, 23, 20, 15]\n",
    "monday  = [13, 14, 14, 16, 18, 19, 19, 17, 16, 12]\n",
    "tuesday = [10, 11, 11, 12, 13, 14, 14, 10, 8,  5]\n",
    "# Combine these lists into a list of list\n",
    "daily = [sunday, monday, tuesday]\n",
    "pp(daily)\n",
    "\n",
    "for item in zip(sunday,monday, tuesday):\n",
    "    print(item)"
   ]
  },
  {
   "cell_type": "code",
   "execution_count": 43,
   "metadata": {},
   "outputs": [
    {
     "name": "stdout",
     "output_type": "stream",
     "text": [
      "(12, 13, 10)\n",
      "(14, 14, 11)\n",
      "(15, 14, 11)\n",
      "(15, 16, 12)\n",
      "(17, 18, 13)\n",
      "(21, 19, 14)\n",
      "(22, 19, 14)\n",
      "(23, 17, 10)\n",
      "(20, 16, 8)\n",
      "(15, 12, 5)\n"
     ]
    }
   ],
   "source": [
    "for item in zip(*daily):\n",
    "    print(item)"
   ]
  },
  {
   "cell_type": "code",
   "execution_count": 44,
   "metadata": {},
   "outputs": [
    {
     "name": "stdout",
     "output_type": "stream",
     "text": [
      "[[12, 14, 15, 15, 17, 21, 22, 23, 20, 15],\n",
      " [13, 14, 14, 16, 18, 19, 19, 17, 16, 12],\n",
      " [10, 11, 11, 12, 13, 14, 14, 10, 8, 5]]\n",
      "[(12, 13, 10),\n",
      " (14, 14, 11),\n",
      " (15, 14, 11),\n",
      " (15, 16, 12),\n",
      " (17, 18, 13),\n",
      " (21, 19, 14),\n",
      " (22, 19, 14),\n",
      " (23, 17, 10),\n",
      " (20, 16, 8),\n",
      " (15, 12, 5)]\n"
     ]
    }
   ],
   "source": [
    "# Transpose the data\n",
    "pp(daily) # original\n",
    "transpose = list(zip(*daily))\n",
    "pp(transpose)\n",
    "\n"
   ]
  },
  {
   "cell_type": "code",
   "execution_count": null,
   "metadata": {
    "collapsed": true
   },
   "outputs": [],
   "source": []
  }
 ],
 "metadata": {
  "kernelspec": {
   "display_name": "Python 3",
   "language": "python",
   "name": "python3"
  },
  "language_info": {
   "codemirror_mode": {
    "name": "ipython",
    "version": 3
   },
   "file_extension": ".py",
   "mimetype": "text/x-python",
   "name": "python",
   "nbconvert_exporter": "python",
   "pygments_lexer": "ipython3",
   "version": "3.5.1"
  }
 },
 "nbformat": 4,
 "nbformat_minor": 2
}
